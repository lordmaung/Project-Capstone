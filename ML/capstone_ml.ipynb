{
  "cells": [
    {
      "cell_type": "code",
      "execution_count": 1,
      "metadata": {
        "id": "urjNByXRX0I7"
      },
      "outputs": [],
      "source": [
        "import pandas as pd\n",
        "import numpy as np\n",
        "import tensorflow as tf\n",
        "from sklearn.model_selection import train_test_split\n",
        "from sklearn.preprocessing import LabelEncoder\n",
        "from sklearn.metrics import accuracy_score\n",
        "from sklearn.metrics import classification_report\n",
        "from sklearn.metrics import confusion_matrix"
      ]
    },
    {
      "cell_type": "code",
      "source": [
        "# Read dataset\n",
        "df = pd.read_csv('dataset_task.csv', delimiter=\";\")\n",
        "df"
      ],
      "metadata": {
        "colab": {
          "base_uri": "https://localhost:8080/",
          "height": 423
        },
        "id": "yGsKqzp-TKah",
        "outputId": "b5d9efa5-7058-4015-f968-2ba670b2971e"
      },
      "execution_count": 2,
      "outputs": [
        {
          "output_type": "execute_result",
          "data": {
            "text/plain": [
              "     Dateline (hari) Tingkat Important Tingkat Urgent Kompleksitas  Prioritas\n",
              "0                  0         important         urgent       tinggi  do it now\n",
              "1                  0         important     not urgent       sedang   schedule\n",
              "2                  0     not important         urgent       sedang   delegate\n",
              "3                  0     not important     not urgent       rendah       drop\n",
              "4                  1         important         urgent       tinggi  do it now\n",
              "..               ...               ...            ...          ...        ...\n",
              "801                1         important         urgent       tinggi  do it now\n",
              "802                0         important         urgent       tinggi  do it now\n",
              "803                1         important         urgent       tinggi  do it now\n",
              "804                0         important         urgent       tinggi  do it now\n",
              "805                1         important         urgent       tinggi  do it now\n",
              "\n",
              "[806 rows x 5 columns]"
            ],
            "text/html": [
              "\n",
              "  <div id=\"df-4154c3de-d0ec-4bb6-9bc3-0d30ecbfbfce\">\n",
              "    <div class=\"colab-df-container\">\n",
              "      <div>\n",
              "<style scoped>\n",
              "    .dataframe tbody tr th:only-of-type {\n",
              "        vertical-align: middle;\n",
              "    }\n",
              "\n",
              "    .dataframe tbody tr th {\n",
              "        vertical-align: top;\n",
              "    }\n",
              "\n",
              "    .dataframe thead th {\n",
              "        text-align: right;\n",
              "    }\n",
              "</style>\n",
              "<table border=\"1\" class=\"dataframe\">\n",
              "  <thead>\n",
              "    <tr style=\"text-align: right;\">\n",
              "      <th></th>\n",
              "      <th>Dateline (hari)</th>\n",
              "      <th>Tingkat Important</th>\n",
              "      <th>Tingkat Urgent</th>\n",
              "      <th>Kompleksitas</th>\n",
              "      <th>Prioritas</th>\n",
              "    </tr>\n",
              "  </thead>\n",
              "  <tbody>\n",
              "    <tr>\n",
              "      <th>0</th>\n",
              "      <td>0</td>\n",
              "      <td>important</td>\n",
              "      <td>urgent</td>\n",
              "      <td>tinggi</td>\n",
              "      <td>do it now</td>\n",
              "    </tr>\n",
              "    <tr>\n",
              "      <th>1</th>\n",
              "      <td>0</td>\n",
              "      <td>important</td>\n",
              "      <td>not urgent</td>\n",
              "      <td>sedang</td>\n",
              "      <td>schedule</td>\n",
              "    </tr>\n",
              "    <tr>\n",
              "      <th>2</th>\n",
              "      <td>0</td>\n",
              "      <td>not important</td>\n",
              "      <td>urgent</td>\n",
              "      <td>sedang</td>\n",
              "      <td>delegate</td>\n",
              "    </tr>\n",
              "    <tr>\n",
              "      <th>3</th>\n",
              "      <td>0</td>\n",
              "      <td>not important</td>\n",
              "      <td>not urgent</td>\n",
              "      <td>rendah</td>\n",
              "      <td>drop</td>\n",
              "    </tr>\n",
              "    <tr>\n",
              "      <th>4</th>\n",
              "      <td>1</td>\n",
              "      <td>important</td>\n",
              "      <td>urgent</td>\n",
              "      <td>tinggi</td>\n",
              "      <td>do it now</td>\n",
              "    </tr>\n",
              "    <tr>\n",
              "      <th>...</th>\n",
              "      <td>...</td>\n",
              "      <td>...</td>\n",
              "      <td>...</td>\n",
              "      <td>...</td>\n",
              "      <td>...</td>\n",
              "    </tr>\n",
              "    <tr>\n",
              "      <th>801</th>\n",
              "      <td>1</td>\n",
              "      <td>important</td>\n",
              "      <td>urgent</td>\n",
              "      <td>tinggi</td>\n",
              "      <td>do it now</td>\n",
              "    </tr>\n",
              "    <tr>\n",
              "      <th>802</th>\n",
              "      <td>0</td>\n",
              "      <td>important</td>\n",
              "      <td>urgent</td>\n",
              "      <td>tinggi</td>\n",
              "      <td>do it now</td>\n",
              "    </tr>\n",
              "    <tr>\n",
              "      <th>803</th>\n",
              "      <td>1</td>\n",
              "      <td>important</td>\n",
              "      <td>urgent</td>\n",
              "      <td>tinggi</td>\n",
              "      <td>do it now</td>\n",
              "    </tr>\n",
              "    <tr>\n",
              "      <th>804</th>\n",
              "      <td>0</td>\n",
              "      <td>important</td>\n",
              "      <td>urgent</td>\n",
              "      <td>tinggi</td>\n",
              "      <td>do it now</td>\n",
              "    </tr>\n",
              "    <tr>\n",
              "      <th>805</th>\n",
              "      <td>1</td>\n",
              "      <td>important</td>\n",
              "      <td>urgent</td>\n",
              "      <td>tinggi</td>\n",
              "      <td>do it now</td>\n",
              "    </tr>\n",
              "  </tbody>\n",
              "</table>\n",
              "<p>806 rows × 5 columns</p>\n",
              "</div>\n",
              "      <button class=\"colab-df-convert\" onclick=\"convertToInteractive('df-4154c3de-d0ec-4bb6-9bc3-0d30ecbfbfce')\"\n",
              "              title=\"Convert this dataframe to an interactive table.\"\n",
              "              style=\"display:none;\">\n",
              "        \n",
              "  <svg xmlns=\"http://www.w3.org/2000/svg\" height=\"24px\"viewBox=\"0 0 24 24\"\n",
              "       width=\"24px\">\n",
              "    <path d=\"M0 0h24v24H0V0z\" fill=\"none\"/>\n",
              "    <path d=\"M18.56 5.44l.94 2.06.94-2.06 2.06-.94-2.06-.94-.94-2.06-.94 2.06-2.06.94zm-11 1L8.5 8.5l.94-2.06 2.06-.94-2.06-.94L8.5 2.5l-.94 2.06-2.06.94zm10 10l.94 2.06.94-2.06 2.06-.94-2.06-.94-.94-2.06-.94 2.06-2.06.94z\"/><path d=\"M17.41 7.96l-1.37-1.37c-.4-.4-.92-.59-1.43-.59-.52 0-1.04.2-1.43.59L10.3 9.45l-7.72 7.72c-.78.78-.78 2.05 0 2.83L4 21.41c.39.39.9.59 1.41.59.51 0 1.02-.2 1.41-.59l7.78-7.78 2.81-2.81c.8-.78.8-2.07 0-2.86zM5.41 20L4 18.59l7.72-7.72 1.47 1.35L5.41 20z\"/>\n",
              "  </svg>\n",
              "      </button>\n",
              "      \n",
              "  <style>\n",
              "    .colab-df-container {\n",
              "      display:flex;\n",
              "      flex-wrap:wrap;\n",
              "      gap: 12px;\n",
              "    }\n",
              "\n",
              "    .colab-df-convert {\n",
              "      background-color: #E8F0FE;\n",
              "      border: none;\n",
              "      border-radius: 50%;\n",
              "      cursor: pointer;\n",
              "      display: none;\n",
              "      fill: #1967D2;\n",
              "      height: 32px;\n",
              "      padding: 0 0 0 0;\n",
              "      width: 32px;\n",
              "    }\n",
              "\n",
              "    .colab-df-convert:hover {\n",
              "      background-color: #E2EBFA;\n",
              "      box-shadow: 0px 1px 2px rgba(60, 64, 67, 0.3), 0px 1px 3px 1px rgba(60, 64, 67, 0.15);\n",
              "      fill: #174EA6;\n",
              "    }\n",
              "\n",
              "    [theme=dark] .colab-df-convert {\n",
              "      background-color: #3B4455;\n",
              "      fill: #D2E3FC;\n",
              "    }\n",
              "\n",
              "    [theme=dark] .colab-df-convert:hover {\n",
              "      background-color: #434B5C;\n",
              "      box-shadow: 0px 1px 3px 1px rgba(0, 0, 0, 0.15);\n",
              "      filter: drop-shadow(0px 1px 2px rgba(0, 0, 0, 0.3));\n",
              "      fill: #FFFFFF;\n",
              "    }\n",
              "  </style>\n",
              "\n",
              "      <script>\n",
              "        const buttonEl =\n",
              "          document.querySelector('#df-4154c3de-d0ec-4bb6-9bc3-0d30ecbfbfce button.colab-df-convert');\n",
              "        buttonEl.style.display =\n",
              "          google.colab.kernel.accessAllowed ? 'block' : 'none';\n",
              "\n",
              "        async function convertToInteractive(key) {\n",
              "          const element = document.querySelector('#df-4154c3de-d0ec-4bb6-9bc3-0d30ecbfbfce');\n",
              "          const dataTable =\n",
              "            await google.colab.kernel.invokeFunction('convertToInteractive',\n",
              "                                                     [key], {});\n",
              "          if (!dataTable) return;\n",
              "\n",
              "          const docLinkHtml = 'Like what you see? Visit the ' +\n",
              "            '<a target=\"_blank\" href=https://colab.research.google.com/notebooks/data_table.ipynb>data table notebook</a>'\n",
              "            + ' to learn more about interactive tables.';\n",
              "          element.innerHTML = '';\n",
              "          dataTable['output_type'] = 'display_data';\n",
              "          await google.colab.output.renderOutput(dataTable, element);\n",
              "          const docLink = document.createElement('div');\n",
              "          docLink.innerHTML = docLinkHtml;\n",
              "          element.appendChild(docLink);\n",
              "        }\n",
              "      </script>\n",
              "    </div>\n",
              "  </div>\n",
              "  "
            ]
          },
          "metadata": {},
          "execution_count": 2
        }
      ]
    },
    {
      "cell_type": "code",
      "execution_count": 3,
      "metadata": {
        "id": "VLZPvmPMYDut"
      },
      "outputs": [],
      "source": [
        "# Kamus untuk penerjemahan teks ke angka\n",
        "translation_table = {'important': 0, 'not important': 1}\n",
        "translation_table2 = {'urgent': 0, 'not urgent': 1}\n",
        "translation_table3 = {'rendah': 0, 'sedang': 1, 'tinggi': 2}\n",
        "\n",
        "# Menggunakan metode map untuk penerjemahan\n",
        "df['Tingkat Important'] = df['Tingkat Important'].replace(translation_table)\n",
        "df['Tingkat Urgent'] = df['Tingkat Urgent'].replace(translation_table2)\n",
        "df['Kompleksitas'] = df['Kompleksitas'].replace(translation_table3)"
      ]
    },
    {
      "cell_type": "code",
      "execution_count": 4,
      "metadata": {
        "colab": {
          "base_uri": "https://localhost:8080/",
          "height": 423
        },
        "id": "bX4BS96CYR4t",
        "outputId": "836c03e9-6552-47a4-d6a5-7a9ff8163481"
      },
      "outputs": [
        {
          "output_type": "execute_result",
          "data": {
            "text/plain": [
              "     Dateline (hari)  Tingkat Important  Tingkat Urgent  Kompleksitas  \\\n",
              "0                  0                  0               0             2   \n",
              "1                  0                  0               1             1   \n",
              "2                  0                  1               0             1   \n",
              "3                  0                  1               1             0   \n",
              "4                  1                  0               0             2   \n",
              "..               ...                ...             ...           ...   \n",
              "801                1                  0               0             2   \n",
              "802                0                  0               0             2   \n",
              "803                1                  0               0             2   \n",
              "804                0                  0               0             2   \n",
              "805                1                  0               0             2   \n",
              "\n",
              "     Prioritas  \n",
              "0    do it now  \n",
              "1     schedule  \n",
              "2     delegate  \n",
              "3         drop  \n",
              "4    do it now  \n",
              "..         ...  \n",
              "801  do it now  \n",
              "802  do it now  \n",
              "803  do it now  \n",
              "804  do it now  \n",
              "805  do it now  \n",
              "\n",
              "[806 rows x 5 columns]"
            ],
            "text/html": [
              "\n",
              "  <div id=\"df-135ac59f-8254-4e23-accf-6039a5dca351\">\n",
              "    <div class=\"colab-df-container\">\n",
              "      <div>\n",
              "<style scoped>\n",
              "    .dataframe tbody tr th:only-of-type {\n",
              "        vertical-align: middle;\n",
              "    }\n",
              "\n",
              "    .dataframe tbody tr th {\n",
              "        vertical-align: top;\n",
              "    }\n",
              "\n",
              "    .dataframe thead th {\n",
              "        text-align: right;\n",
              "    }\n",
              "</style>\n",
              "<table border=\"1\" class=\"dataframe\">\n",
              "  <thead>\n",
              "    <tr style=\"text-align: right;\">\n",
              "      <th></th>\n",
              "      <th>Dateline (hari)</th>\n",
              "      <th>Tingkat Important</th>\n",
              "      <th>Tingkat Urgent</th>\n",
              "      <th>Kompleksitas</th>\n",
              "      <th>Prioritas</th>\n",
              "    </tr>\n",
              "  </thead>\n",
              "  <tbody>\n",
              "    <tr>\n",
              "      <th>0</th>\n",
              "      <td>0</td>\n",
              "      <td>0</td>\n",
              "      <td>0</td>\n",
              "      <td>2</td>\n",
              "      <td>do it now</td>\n",
              "    </tr>\n",
              "    <tr>\n",
              "      <th>1</th>\n",
              "      <td>0</td>\n",
              "      <td>0</td>\n",
              "      <td>1</td>\n",
              "      <td>1</td>\n",
              "      <td>schedule</td>\n",
              "    </tr>\n",
              "    <tr>\n",
              "      <th>2</th>\n",
              "      <td>0</td>\n",
              "      <td>1</td>\n",
              "      <td>0</td>\n",
              "      <td>1</td>\n",
              "      <td>delegate</td>\n",
              "    </tr>\n",
              "    <tr>\n",
              "      <th>3</th>\n",
              "      <td>0</td>\n",
              "      <td>1</td>\n",
              "      <td>1</td>\n",
              "      <td>0</td>\n",
              "      <td>drop</td>\n",
              "    </tr>\n",
              "    <tr>\n",
              "      <th>4</th>\n",
              "      <td>1</td>\n",
              "      <td>0</td>\n",
              "      <td>0</td>\n",
              "      <td>2</td>\n",
              "      <td>do it now</td>\n",
              "    </tr>\n",
              "    <tr>\n",
              "      <th>...</th>\n",
              "      <td>...</td>\n",
              "      <td>...</td>\n",
              "      <td>...</td>\n",
              "      <td>...</td>\n",
              "      <td>...</td>\n",
              "    </tr>\n",
              "    <tr>\n",
              "      <th>801</th>\n",
              "      <td>1</td>\n",
              "      <td>0</td>\n",
              "      <td>0</td>\n",
              "      <td>2</td>\n",
              "      <td>do it now</td>\n",
              "    </tr>\n",
              "    <tr>\n",
              "      <th>802</th>\n",
              "      <td>0</td>\n",
              "      <td>0</td>\n",
              "      <td>0</td>\n",
              "      <td>2</td>\n",
              "      <td>do it now</td>\n",
              "    </tr>\n",
              "    <tr>\n",
              "      <th>803</th>\n",
              "      <td>1</td>\n",
              "      <td>0</td>\n",
              "      <td>0</td>\n",
              "      <td>2</td>\n",
              "      <td>do it now</td>\n",
              "    </tr>\n",
              "    <tr>\n",
              "      <th>804</th>\n",
              "      <td>0</td>\n",
              "      <td>0</td>\n",
              "      <td>0</td>\n",
              "      <td>2</td>\n",
              "      <td>do it now</td>\n",
              "    </tr>\n",
              "    <tr>\n",
              "      <th>805</th>\n",
              "      <td>1</td>\n",
              "      <td>0</td>\n",
              "      <td>0</td>\n",
              "      <td>2</td>\n",
              "      <td>do it now</td>\n",
              "    </tr>\n",
              "  </tbody>\n",
              "</table>\n",
              "<p>806 rows × 5 columns</p>\n",
              "</div>\n",
              "      <button class=\"colab-df-convert\" onclick=\"convertToInteractive('df-135ac59f-8254-4e23-accf-6039a5dca351')\"\n",
              "              title=\"Convert this dataframe to an interactive table.\"\n",
              "              style=\"display:none;\">\n",
              "        \n",
              "  <svg xmlns=\"http://www.w3.org/2000/svg\" height=\"24px\"viewBox=\"0 0 24 24\"\n",
              "       width=\"24px\">\n",
              "    <path d=\"M0 0h24v24H0V0z\" fill=\"none\"/>\n",
              "    <path d=\"M18.56 5.44l.94 2.06.94-2.06 2.06-.94-2.06-.94-.94-2.06-.94 2.06-2.06.94zm-11 1L8.5 8.5l.94-2.06 2.06-.94-2.06-.94L8.5 2.5l-.94 2.06-2.06.94zm10 10l.94 2.06.94-2.06 2.06-.94-2.06-.94-.94-2.06-.94 2.06-2.06.94z\"/><path d=\"M17.41 7.96l-1.37-1.37c-.4-.4-.92-.59-1.43-.59-.52 0-1.04.2-1.43.59L10.3 9.45l-7.72 7.72c-.78.78-.78 2.05 0 2.83L4 21.41c.39.39.9.59 1.41.59.51 0 1.02-.2 1.41-.59l7.78-7.78 2.81-2.81c.8-.78.8-2.07 0-2.86zM5.41 20L4 18.59l7.72-7.72 1.47 1.35L5.41 20z\"/>\n",
              "  </svg>\n",
              "      </button>\n",
              "      \n",
              "  <style>\n",
              "    .colab-df-container {\n",
              "      display:flex;\n",
              "      flex-wrap:wrap;\n",
              "      gap: 12px;\n",
              "    }\n",
              "\n",
              "    .colab-df-convert {\n",
              "      background-color: #E8F0FE;\n",
              "      border: none;\n",
              "      border-radius: 50%;\n",
              "      cursor: pointer;\n",
              "      display: none;\n",
              "      fill: #1967D2;\n",
              "      height: 32px;\n",
              "      padding: 0 0 0 0;\n",
              "      width: 32px;\n",
              "    }\n",
              "\n",
              "    .colab-df-convert:hover {\n",
              "      background-color: #E2EBFA;\n",
              "      box-shadow: 0px 1px 2px rgba(60, 64, 67, 0.3), 0px 1px 3px 1px rgba(60, 64, 67, 0.15);\n",
              "      fill: #174EA6;\n",
              "    }\n",
              "\n",
              "    [theme=dark] .colab-df-convert {\n",
              "      background-color: #3B4455;\n",
              "      fill: #D2E3FC;\n",
              "    }\n",
              "\n",
              "    [theme=dark] .colab-df-convert:hover {\n",
              "      background-color: #434B5C;\n",
              "      box-shadow: 0px 1px 3px 1px rgba(0, 0, 0, 0.15);\n",
              "      filter: drop-shadow(0px 1px 2px rgba(0, 0, 0, 0.3));\n",
              "      fill: #FFFFFF;\n",
              "    }\n",
              "  </style>\n",
              "\n",
              "      <script>\n",
              "        const buttonEl =\n",
              "          document.querySelector('#df-135ac59f-8254-4e23-accf-6039a5dca351 button.colab-df-convert');\n",
              "        buttonEl.style.display =\n",
              "          google.colab.kernel.accessAllowed ? 'block' : 'none';\n",
              "\n",
              "        async function convertToInteractive(key) {\n",
              "          const element = document.querySelector('#df-135ac59f-8254-4e23-accf-6039a5dca351');\n",
              "          const dataTable =\n",
              "            await google.colab.kernel.invokeFunction('convertToInteractive',\n",
              "                                                     [key], {});\n",
              "          if (!dataTable) return;\n",
              "\n",
              "          const docLinkHtml = 'Like what you see? Visit the ' +\n",
              "            '<a target=\"_blank\" href=https://colab.research.google.com/notebooks/data_table.ipynb>data table notebook</a>'\n",
              "            + ' to learn more about interactive tables.';\n",
              "          element.innerHTML = '';\n",
              "          dataTable['output_type'] = 'display_data';\n",
              "          await google.colab.output.renderOutput(dataTable, element);\n",
              "          const docLink = document.createElement('div');\n",
              "          docLink.innerHTML = docLinkHtml;\n",
              "          element.appendChild(docLink);\n",
              "        }\n",
              "      </script>\n",
              "    </div>\n",
              "  </div>\n",
              "  "
            ]
          },
          "metadata": {},
          "execution_count": 4
        }
      ],
      "source": [
        "df"
      ]
    },
    {
      "cell_type": "code",
      "execution_count": 5,
      "metadata": {
        "id": "DbA7tmrbaHvc"
      },
      "outputs": [],
      "source": [
        "feature =  df.drop(['Prioritas'],axis=1)\n",
        "target = df['Prioritas'].values"
      ]
    },
    {
      "cell_type": "code",
      "execution_count": 6,
      "metadata": {
        "colab": {
          "base_uri": "https://localhost:8080/"
        },
        "id": "B1UFkh6OlZcf",
        "outputId": "72a7540a-080c-4e69-bf53-72e18ab4a0fb"
      },
      "outputs": [
        {
          "output_type": "stream",
          "name": "stdout",
          "text": [
            "Epoch 1/20\n",
            "71/71 [==============================] - 6s 4ms/step - loss: 12.7224 - accuracy: 0.2713\n",
            "Epoch 2/20\n",
            "71/71 [==============================] - 0s 3ms/step - loss: 2.5897 - accuracy: 0.4965\n",
            "Epoch 3/20\n",
            "71/71 [==============================] - 0s 4ms/step - loss: 1.4273 - accuracy: 0.6117\n",
            "Epoch 4/20\n",
            "71/71 [==============================] - 0s 5ms/step - loss: 0.9781 - accuracy: 0.5851\n",
            "Epoch 5/20\n",
            "71/71 [==============================] - 0s 5ms/step - loss: 0.8262 - accuracy: 0.7340\n",
            "Epoch 6/20\n",
            "71/71 [==============================] - 0s 5ms/step - loss: 0.7616 - accuracy: 0.7748\n",
            "Epoch 7/20\n",
            "71/71 [==============================] - 0s 4ms/step - loss: 0.6362 - accuracy: 0.9291\n",
            "Epoch 8/20\n",
            "71/71 [==============================] - 0s 5ms/step - loss: 0.5606 - accuracy: 0.9699\n",
            "Epoch 9/20\n",
            "71/71 [==============================] - 0s 5ms/step - loss: 0.4917 - accuracy: 0.9699\n",
            "Epoch 10/20\n",
            "71/71 [==============================] - 0s 5ms/step - loss: 0.4437 - accuracy: 0.9947\n",
            "Epoch 11/20\n",
            "71/71 [==============================] - 0s 4ms/step - loss: 0.4053 - accuracy: 0.9734\n",
            "Epoch 12/20\n",
            "71/71 [==============================] - 0s 3ms/step - loss: 0.3691 - accuracy: 0.9929\n",
            "Epoch 13/20\n",
            "71/71 [==============================] - 0s 3ms/step - loss: 0.3211 - accuracy: 0.9965\n",
            "Epoch 14/20\n",
            "71/71 [==============================] - 0s 4ms/step - loss: 0.2917 - accuracy: 0.9982\n",
            "Epoch 15/20\n",
            "71/71 [==============================] - 0s 4ms/step - loss: 0.2725 - accuracy: 0.9982\n",
            "Epoch 16/20\n",
            "71/71 [==============================] - 0s 3ms/step - loss: 0.2502 - accuracy: 0.9982\n",
            "Epoch 17/20\n",
            "71/71 [==============================] - 0s 3ms/step - loss: 0.2309 - accuracy: 0.9982\n",
            "Epoch 18/20\n",
            "71/71 [==============================] - 0s 3ms/step - loss: 0.2133 - accuracy: 0.9982\n",
            "Epoch 19/20\n",
            "71/71 [==============================] - 0s 3ms/step - loss: 0.1994 - accuracy: 0.9982\n",
            "Epoch 20/20\n",
            "71/71 [==============================] - 0s 3ms/step - loss: 0.1874 - accuracy: 0.9965\n",
            "8/8 [==============================] - 0s 2ms/step\n",
            "Classification Report:\n",
            "              precision    recall  f1-score   support\n",
            "\n",
            "    delegate       1.00      1.00      1.00        49\n",
            "   do it now       1.00      1.00      1.00        22\n",
            "        drop       1.00      1.00      1.00        57\n",
            "    schedule       1.00      1.00      1.00       114\n",
            "\n",
            "    accuracy                           1.00       242\n",
            "   macro avg       1.00      1.00      1.00       242\n",
            "weighted avg       1.00      1.00      1.00       242\n",
            "\n"
          ]
        }
      ],
      "source": [
        "# Encode target data using LabelEncoder\n",
        "label_encoder = LabelEncoder()\n",
        "target_data_encoded = label_encoder.fit_transform(target)\n",
        "\n",
        "# Perform one-hot encoding on the encoded target data\n",
        "target_data_encoded_onehot = tf.keras.utils.to_categorical(target_data_encoded, num_classes=4)\n",
        "\n",
        "# Split the data into training and testing sets\n",
        "X_train, X_test, y_train, y_test = train_test_split(feature, target_data_encoded_onehot, test_size=0.3, random_state=42)\n",
        "\n",
        "# Build the model\n",
        "model = tf.keras.models.Sequential()\n",
        "model.add(tf.keras.layers.Dense(16, input_dim=4, activation='relu'))\n",
        "model.add(tf.keras.layers.Dense(8, activation='relu'))\n",
        "model.add(tf.keras.layers.Dense(4, activation='softmax'))\n",
        "\n",
        "# Compile the model\n",
        "model.compile(loss='categorical_crossentropy', optimizer='adam', metrics=['accuracy'])\n",
        "\n",
        "# Train the model\n",
        "history = model.fit(X_train, y_train, epochs=20, batch_size=8, verbose=1)\n",
        "\n",
        "# Predict on the test data\n",
        "predictions = model.predict(X_test)\n",
        "predicted_labels = np.argmax(predictions, axis=1)\n",
        "predicted_y = np.argmax(y_test, axis=1)\n",
        "\n",
        "# Decode the predicted labels\n",
        "predicted_labels_decoded = label_encoder.inverse_transform(predicted_labels)\n",
        "y_target = label_encoder.inverse_transform(predicted_y)\n",
        "\n",
        "# Generate classification report\n",
        "report = classification_report(y_target, predicted_labels_decoded)\n",
        "print(\"Classification Report:\")\n",
        "print(report)"
      ]
    },
    {
      "cell_type": "code",
      "execution_count": 7,
      "metadata": {
        "colab": {
          "base_uri": "https://localhost:8080/"
        },
        "id": "3QmUzJu0llyp",
        "outputId": "573728c7-245f-4b90-af6f-9ccb329c2a65"
      },
      "outputs": [
        {
          "output_type": "stream",
          "name": "stdout",
          "text": [
            "Accuracy: 100.00%\n"
          ]
        }
      ],
      "source": [
        "# Calculate accuracy\n",
        "accuracy = accuracy_score(y_target, predicted_labels_decoded)\n",
        "print(\"Accuracy: {:.2f}%\".format(accuracy * 100))"
      ]
    },
    {
      "cell_type": "code",
      "execution_count": 8,
      "metadata": {
        "colab": {
          "base_uri": "https://localhost:8080/"
        },
        "id": "XLhhV2OBobMJ",
        "outputId": "43bc5d1b-16c5-4791-9488-de6de7983d54"
      },
      "outputs": [
        {
          "output_type": "stream",
          "name": "stdout",
          "text": [
            "Classification Report:\n",
            "              precision    recall  f1-score   support\n",
            "\n",
            "    delegate       1.00      1.00      1.00        49\n",
            "   do it now       1.00      1.00      1.00        22\n",
            "        drop       1.00      1.00      1.00        57\n",
            "    schedule       1.00      1.00      1.00       114\n",
            "\n",
            "    accuracy                           1.00       242\n",
            "   macro avg       1.00      1.00      1.00       242\n",
            "weighted avg       1.00      1.00      1.00       242\n",
            "\n"
          ]
        }
      ],
      "source": [
        "# Generate classification report\n",
        "report = classification_report(y_target, predicted_labels_decoded)\n",
        "print(\"Classification Report:\")\n",
        "print(report)"
      ]
    },
    {
      "cell_type": "code",
      "execution_count": 9,
      "metadata": {
        "colab": {
          "base_uri": "https://localhost:8080/"
        },
        "id": "dFi1PnP9rh05",
        "outputId": "dbac10fb-2d9c-4b56-b119-128aaa9ed3b5"
      },
      "outputs": [
        {
          "output_type": "stream",
          "name": "stdout",
          "text": [
            "Confusion Matrix:\n",
            "[[ 49   0   0   0]\n",
            " [  0  22   0   0]\n",
            " [  0   0  57   0]\n",
            " [  0   0   0 114]]\n"
          ]
        }
      ],
      "source": [
        "# Compute confusion matrix\n",
        "cm = confusion_matrix(y_target, predicted_labels_decoded)\n",
        "\n",
        "print(\"Confusion Matrix:\")\n",
        "print(cm)"
      ]
    },
    {
      "cell_type": "code",
      "execution_count": 10,
      "metadata": {
        "colab": {
          "base_uri": "https://localhost:8080/",
          "height": 927
        },
        "id": "7vuVjWxCzRbU",
        "outputId": "a7bf0829-d13b-4915-869b-c941fb40f83e"
      },
      "outputs": [
        {
          "output_type": "display_data",
          "data": {
            "text/plain": [
              "<Figure size 640x480 with 1 Axes>"
            ],
            "image/png": "[encoded data removed]"
          },
          "metadata": {}
        },
        {
          "output_type": "display_data",
          "data": {
            "text/plain": [
              "<Figure size 640x480 with 1 Axes>"
            ],
            "image/png": "[encoded data removed]"
          },
          "metadata": {}
        }
      ],
      "source": [
        "# Plot the training loss\n",
        "import matplotlib.pyplot as plt\n",
        "plt.plot(history.history['loss'])\n",
        "plt.title('Training Loss')\n",
        "plt.xlabel('Epoch')\n",
        "plt.ylabel('Loss')\n",
        "plt.show()\n",
        "\n",
        "# Plot the training accuracy\n",
        "plt.plot(history.history['accuracy'])\n",
        "plt.title('Training Accuracy')\n",
        "plt.xlabel('Epoch')\n",
        "plt.ylabel('Accuracy')\n",
        "plt.show()"
      ]
    },
    {
      "cell_type": "code",
      "execution_count": 11,
      "metadata": {
        "id": "TLpMs-iirv-S"
      },
      "outputs": [],
      "source": [
        "model.save(\"model.h5\")"
      ]
    },
    {
      "cell_type": "code",
      "execution_count": 12,
      "metadata": {
        "id": "B3AXB4HbvE_e"
      },
      "outputs": [],
      "source": [
        "loaded_model = tf.keras.models.load_model(\"model.h5\")"
      ]
    },
    {
      "cell_type": "code",
      "execution_count": 13,
      "metadata": {
        "id": "W4TaFaFQvFTT"
      },
      "outputs": [],
      "source": [
        "input_data = [[48, 0, 1, 1], [53, 1, 0, 1], [0,0,0,2], [3,1,1,0]]\n"
      ]
    },
    {
      "cell_type": "code",
      "execution_count": 14,
      "metadata": {
        "colab": {
          "base_uri": "https://localhost:8080/"
        },
        "id": "RB4O_JSUvyn_",
        "outputId": "50ca4e17-4b7e-4682-b801-1b38ab378aae"
      },
      "outputs": [
        {
          "output_type": "stream",
          "name": "stdout",
          "text": [
            "1/1 [==============================] - 0s 61ms/step\n"
          ]
        }
      ],
      "source": [
        "predictions = loaded_model.predict(input_data)"
      ]
    },
    {
      "cell_type": "code",
      "execution_count": 15,
      "metadata": {
        "id": "bxba10iqv3ER"
      },
      "outputs": [],
      "source": [
        "predicted_labels = np.argmax(predictions, axis=1)\n",
        "\n",
        "# Decode the predicted labels\n",
        "predicted_labels_decoded = label_encoder.inverse_transform(predicted_labels)"
      ]
    },
    {
      "cell_type": "code",
      "execution_count": 16,
      "metadata": {
        "colab": {
          "base_uri": "https://localhost:8080/"
        },
        "id": "C-CQ9Zi0wGNl",
        "outputId": "73b3404c-88ba-4037-be25-d5b9b41088f4"
      },
      "outputs": [
        {
          "output_type": "stream",
          "name": "stdout",
          "text": [
            "Input Data 1\n",
            "Prediction: schedule\n",
            "\n",
            "Input Data 2\n",
            "Prediction: delegate\n",
            "\n",
            "Input Data 3\n",
            "Prediction: do it now\n",
            "\n",
            "Input Data 4\n",
            "Prediction: drop\n",
            "\n"
          ]
        }
      ],
      "source": [
        "for i, predicted_labels_decoded in enumerate(predicted_labels_decoded):\n",
        "    print(\"Input Data\", i+1)\n",
        "    print(\"Prediction:\", predicted_labels_decoded)\n",
        "    print()"
      ]
    }
  ],
  "metadata": {
    "accelerator": "GPU",
    "colab": {
      "gpuType": "T4",
      "provenance": []
    },
    "gpuClass": "standard",
    "kernelspec": {
      "display_name": "Python 3 (ipykernel)",
      "language": "python",
      "name": "python3"
    },
    "language_info": {
      "codemirror_mode": {
        "name": "ipython",
        "version": 3
      },
      "file_extension": ".py",
      "mimetype": "text/x-python",
      "name": "python",
      "nbconvert_exporter": "python",
      "pygments_lexer": "ipython3",
      "version": "3.9.13"
    },
    "toc": {
      "base_numbering": 1,
      "nav_menu": {},
      "number_sections": true,
      "sideBar": true,
      "skip_h1_title": false,
      "title_cell": "Table of Contents",
      "title_sidebar": "Contents",
      "toc_cell": false,
      "toc_position": {},
      "toc_section_display": true,
      "toc_window_display": false
    },
    "varInspector": {
      "cols": {
        "lenName": 16,
        "lenType": 16,
        "lenVar": 40
      },
      "kernels_config": {
        "python": {
          "delete_cmd_postfix": "",
          "delete_cmd_prefix": "del ",
          "library": "var_list.py",
          "varRefreshCmd": "print(var_dic_list())"
        },
        "r": {
          "delete_cmd_postfix": ") ",
          "delete_cmd_prefix": "rm(",
          "library": "var_list.r",
          "varRefreshCmd": "cat(var_dic_list()) "
        }
      },
      "types_to_exclude": [
        "module",
        "function",
        "builtin_function_or_method",
        "instance",
        "_Feature"
      ],
      "window_display": false
    }
  },
  "nbformat": 4,
  "nbformat_minor": 0
}