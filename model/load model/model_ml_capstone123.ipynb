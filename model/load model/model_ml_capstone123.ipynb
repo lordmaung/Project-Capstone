{
  "cells": [
    {
      "cell_type": "code",
      "execution_count": 152,
      "metadata": {
        "id": "urjNByXRX0I7"
      },
      "outputs": [],
      "source": [
        "import pandas as pd\n",
        "import numpy as np\n",
        "import tensorflow as tf\n",
        "from sklearn.model_selection import train_test_split\n",
        "from sklearn.preprocessing import LabelEncoder\n",
        "from sklearn.metrics import accuracy_score\n",
        "from sklearn.metrics import classification_report\n",
        "from sklearn.metrics import confusion_matrix"
      ]
    },
    {
      "cell_type": "code",
      "source": [
        "# Read dataset\n",
        "df = pd.read_csv('dataset_capstone1.csv', delimiter=\";\")\n",
        "df"
      ],
      "metadata": {
        "colab": {
          "base_uri": "https://localhost:8080/",
          "height": 423
        },
        "id": "yGsKqzp-TKah",
        "outputId": "6c614138-ff80-448c-8bca-fb9f7c6cd3a5"
      },
      "execution_count": 153,
      "outputs": [
        {
          "output_type": "execute_result",
          "data": {
            "text/plain": [
              "      Dateline (hari) Tingkat Important Tingkat Urgent Kompleksitas  Prioritas\n",
              "0                   0         important         urgent       tinggi  do it now\n",
              "1                   0         important     not urgent       tinggi   schedule\n",
              "2                   0     not important         urgent       tinggi   delegate\n",
              "3                   0     not important     not urgent       tinggi       drop\n",
              "4                   0         important         urgent       sedang  do it now\n",
              "...               ...               ...            ...          ...        ...\n",
              "1311                1         important         urgent       rendah       drop\n",
              "1312                0         important         urgent       rendah       drop\n",
              "1313                1         important         urgent       rendah       drop\n",
              "1314                0         important         urgent       rendah       drop\n",
              "1315                1         important         urgent       rendah       drop\n",
              "\n",
              "[1316 rows x 5 columns]"
            ],
            "text/html": [
              "\n",
              "  <div id=\"df-f6f9db9a-6110-4271-a182-999601d58222\">\n",
              "    <div class=\"colab-df-container\">\n",
              "      <div>\n",
              "<style scoped>\n",
              "    .dataframe tbody tr th:only-of-type {\n",
              "        vertical-align: middle;\n",
              "    }\n",
              "\n",
              "    .dataframe tbody tr th {\n",
              "        vertical-align: top;\n",
              "    }\n",
              "\n",
              "    .dataframe thead th {\n",
              "        text-align: right;\n",
              "    }\n",
              "</style>\n",
              "<table border=\"1\" class=\"dataframe\">\n",
              "  <thead>\n",
              "    <tr style=\"text-align: right;\">\n",
              "      <th></th>\n",
              "      <th>Dateline (hari)</th>\n",
              "      <th>Tingkat Important</th>\n",
              "      <th>Tingkat Urgent</th>\n",
              "      <th>Kompleksitas</th>\n",
              "      <th>Prioritas</th>\n",
              "    </tr>\n",
              "  </thead>\n",
              "  <tbody>\n",
              "    <tr>\n",
              "      <th>0</th>\n",
              "      <td>0</td>\n",
              "      <td>important</td>\n",
              "      <td>urgent</td>\n",
              "      <td>tinggi</td>\n",
              "      <td>do it now</td>\n",
              "    </tr>\n",
              "    <tr>\n",
              "      <th>1</th>\n",
              "      <td>0</td>\n",
              "      <td>important</td>\n",
              "      <td>not urgent</td>\n",
              "      <td>tinggi</td>\n",
              "      <td>schedule</td>\n",
              "    </tr>\n",
              "    <tr>\n",
              "      <th>2</th>\n",
              "      <td>0</td>\n",
              "      <td>not important</td>\n",
              "      <td>urgent</td>\n",
              "      <td>tinggi</td>\n",
              "      <td>delegate</td>\n",
              "    </tr>\n",
              "    <tr>\n",
              "      <th>3</th>\n",
              "      <td>0</td>\n",
              "      <td>not important</td>\n",
              "      <td>not urgent</td>\n",
              "      <td>tinggi</td>\n",
              "      <td>drop</td>\n",
              "    </tr>\n",
              "    <tr>\n",
              "      <th>4</th>\n",
              "      <td>0</td>\n",
              "      <td>important</td>\n",
              "      <td>urgent</td>\n",
              "      <td>sedang</td>\n",
              "      <td>do it now</td>\n",
              "    </tr>\n",
              "    <tr>\n",
              "      <th>...</th>\n",
              "      <td>...</td>\n",
              "      <td>...</td>\n",
              "      <td>...</td>\n",
              "      <td>...</td>\n",
              "      <td>...</td>\n",
              "    </tr>\n",
              "    <tr>\n",
              "      <th>1311</th>\n",
              "      <td>1</td>\n",
              "      <td>important</td>\n",
              "      <td>urgent</td>\n",
              "      <td>rendah</td>\n",
              "      <td>drop</td>\n",
              "    </tr>\n",
              "    <tr>\n",
              "      <th>1312</th>\n",
              "      <td>0</td>\n",
              "      <td>important</td>\n",
              "      <td>urgent</td>\n",
              "      <td>rendah</td>\n",
              "      <td>drop</td>\n",
              "    </tr>\n",
              "    <tr>\n",
              "      <th>1313</th>\n",
              "      <td>1</td>\n",
              "      <td>important</td>\n",
              "      <td>urgent</td>\n",
              "      <td>rendah</td>\n",
              "      <td>drop</td>\n",
              "    </tr>\n",
              "    <tr>\n",
              "      <th>1314</th>\n",
              "      <td>0</td>\n",
              "      <td>important</td>\n",
              "      <td>urgent</td>\n",
              "      <td>rendah</td>\n",
              "      <td>drop</td>\n",
              "    </tr>\n",
              "    <tr>\n",
              "      <th>1315</th>\n",
              "      <td>1</td>\n",
              "      <td>important</td>\n",
              "      <td>urgent</td>\n",
              "      <td>rendah</td>\n",
              "      <td>drop</td>\n",
              "    </tr>\n",
              "  </tbody>\n",
              "</table>\n",
              "<p>1316 rows × 5 columns</p>\n",
              "</div>\n",
              "      <button class=\"colab-df-convert\" onclick=\"convertToInteractive('df-f6f9db9a-6110-4271-a182-999601d58222')\"\n",
              "              title=\"Convert this dataframe to an interactive table.\"\n",
              "              style=\"display:none;\">\n",
              "        \n",
              "  <svg xmlns=\"http://www.w3.org/2000/svg\" height=\"24px\"viewBox=\"0 0 24 24\"\n",
              "       width=\"24px\">\n",
              "    <path d=\"M0 0h24v24H0V0z\" fill=\"none\"/>\n",
              "    <path d=\"M18.56 5.44l.94 2.06.94-2.06 2.06-.94-2.06-.94-.94-2.06-.94 2.06-2.06.94zm-11 1L8.5 8.5l.94-2.06 2.06-.94-2.06-.94L8.5 2.5l-.94 2.06-2.06.94zm10 10l.94 2.06.94-2.06 2.06-.94-2.06-.94-.94-2.06-.94 2.06-2.06.94z\"/><path d=\"M17.41 7.96l-1.37-1.37c-.4-.4-.92-.59-1.43-.59-.52 0-1.04.2-1.43.59L10.3 9.45l-7.72 7.72c-.78.78-.78 2.05 0 2.83L4 21.41c.39.39.9.59 1.41.59.51 0 1.02-.2 1.41-.59l7.78-7.78 2.81-2.81c.8-.78.8-2.07 0-2.86zM5.41 20L4 18.59l7.72-7.72 1.47 1.35L5.41 20z\"/>\n",
              "  </svg>\n",
              "      </button>\n",
              "      \n",
              "  <style>\n",
              "    .colab-df-container {\n",
              "      display:flex;\n",
              "      flex-wrap:wrap;\n",
              "      gap: 12px;\n",
              "    }\n",
              "\n",
              "    .colab-df-convert {\n",
              "      background-color: #E8F0FE;\n",
              "      border: none;\n",
              "      border-radius: 50%;\n",
              "      cursor: pointer;\n",
              "      display: none;\n",
              "      fill: #1967D2;\n",
              "      height: 32px;\n",
              "      padding: 0 0 0 0;\n",
              "      width: 32px;\n",
              "    }\n",
              "\n",
              "    .colab-df-convert:hover {\n",
              "      background-color: #E2EBFA;\n",
              "      box-shadow: 0px 1px 2px rgba(60, 64, 67, 0.3), 0px 1px 3px 1px rgba(60, 64, 67, 0.15);\n",
              "      fill: #174EA6;\n",
              "    }\n",
              "\n",
              "    [theme=dark] .colab-df-convert {\n",
              "      background-color: #3B4455;\n",
              "      fill: #D2E3FC;\n",
              "    }\n",
              "\n",
              "    [theme=dark] .colab-df-convert:hover {\n",
              "      background-color: #434B5C;\n",
              "      box-shadow: 0px 1px 3px 1px rgba(0, 0, 0, 0.15);\n",
              "      filter: drop-shadow(0px 1px 2px rgba(0, 0, 0, 0.3));\n",
              "      fill: #FFFFFF;\n",
              "    }\n",
              "  </style>\n",
              "\n",
              "      <script>\n",
              "        const buttonEl =\n",
              "          document.querySelector('#df-f6f9db9a-6110-4271-a182-999601d58222 button.colab-df-convert');\n",
              "        buttonEl.style.display =\n",
              "          google.colab.kernel.accessAllowed ? 'block' : 'none';\n",
              "\n",
              "        async function convertToInteractive(key) {\n",
              "          const element = document.querySelector('#df-f6f9db9a-6110-4271-a182-999601d58222');\n",
              "          const dataTable =\n",
              "            await google.colab.kernel.invokeFunction('convertToInteractive',\n",
              "                                                     [key], {});\n",
              "          if (!dataTable) return;\n",
              "\n",
              "          const docLinkHtml = 'Like what you see? Visit the ' +\n",
              "            '<a target=\"_blank\" href=https://colab.research.google.com/notebooks/data_table.ipynb>data table notebook</a>'\n",
              "            + ' to learn more about interactive tables.';\n",
              "          element.innerHTML = '';\n",
              "          dataTable['output_type'] = 'display_data';\n",
              "          await google.colab.output.renderOutput(dataTable, element);\n",
              "          const docLink = document.createElement('div');\n",
              "          docLink.innerHTML = docLinkHtml;\n",
              "          element.appendChild(docLink);\n",
              "        }\n",
              "      </script>\n",
              "    </div>\n",
              "  </div>\n",
              "  "
            ]
          },
          "metadata": {},
          "execution_count": 153
        }
      ]
    },
    {
      "cell_type": "code",
      "execution_count": 154,
      "metadata": {
        "id": "VLZPvmPMYDut"
      },
      "outputs": [],
      "source": [
        "# Kamus untuk penerjemahan teks ke angka\n",
        "translation_table = {'important': 0, 'not important': 1}\n",
        "translation_table2 = {'urgent': 0, 'not urgent': 1}\n",
        "translation_table3 = {'rendah': 0, 'sedang': 1, 'tinggi': 2}\n",
        "\n",
        "# Menggunakan metode map untuk penerjemahan\n",
        "df['Tingkat Important'] = df['Tingkat Important'].replace(translation_table)\n",
        "df['Tingkat Urgent'] = df['Tingkat Urgent'].replace(translation_table2)\n",
        "df['Kompleksitas'] = df['Kompleksitas'].replace(translation_table3)"
      ]
    },
    {
      "cell_type": "code",
      "execution_count": 155,
      "metadata": {
        "colab": {
          "base_uri": "https://localhost:8080/",
          "height": 423
        },
        "id": "bX4BS96CYR4t",
        "outputId": "896cead2-6bae-408e-a65c-494f1d955426"
      },
      "outputs": [
        {
          "output_type": "execute_result",
          "data": {
            "text/plain": [
              "      Dateline (hari)  Tingkat Important  Tingkat Urgent  Kompleksitas  \\\n",
              "0                   0                  0               0             2   \n",
              "1                   0                  0               1             2   \n",
              "2                   0                  1               0             2   \n",
              "3                   0                  1               1             2   \n",
              "4                   0                  0               0             1   \n",
              "...               ...                ...             ...           ...   \n",
              "1311                1                  0               0             0   \n",
              "1312                0                  0               0             0   \n",
              "1313                1                  0               0             0   \n",
              "1314                0                  0               0             0   \n",
              "1315                1                  0               0             0   \n",
              "\n",
              "      Prioritas  \n",
              "0     do it now  \n",
              "1      schedule  \n",
              "2      delegate  \n",
              "3          drop  \n",
              "4     do it now  \n",
              "...         ...  \n",
              "1311       drop  \n",
              "1312       drop  \n",
              "1313       drop  \n",
              "1314       drop  \n",
              "1315       drop  \n",
              "\n",
              "[1316 rows x 5 columns]"
            ],
            "text/html": [
              "\n",
              "  <div id=\"df-c04e39c5-a292-4ca6-8236-431ca9af55b0\">\n",
              "    <div class=\"colab-df-container\">\n",
              "      <div>\n",
              "<style scoped>\n",
              "    .dataframe tbody tr th:only-of-type {\n",
              "        vertical-align: middle;\n",
              "    }\n",
              "\n",
              "    .dataframe tbody tr th {\n",
              "        vertical-align: top;\n",
              "    }\n",
              "\n",
              "    .dataframe thead th {\n",
              "        text-align: right;\n",
              "    }\n",
              "</style>\n",
              "<table border=\"1\" class=\"dataframe\">\n",
              "  <thead>\n",
              "    <tr style=\"text-align: right;\">\n",
              "      <th></th>\n",
              "      <th>Dateline (hari)</th>\n",
              "      <th>Tingkat Important</th>\n",
              "      <th>Tingkat Urgent</th>\n",
              "      <th>Kompleksitas</th>\n",
              "      <th>Prioritas</th>\n",
              "    </tr>\n",
              "  </thead>\n",
              "  <tbody>\n",
              "    <tr>\n",
              "      <th>0</th>\n",
              "      <td>0</td>\n",
              "      <td>0</td>\n",
              "      <td>0</td>\n",
              "      <td>2</td>\n",
              "      <td>do it now</td>\n",
              "    </tr>\n",
              "    <tr>\n",
              "      <th>1</th>\n",
              "      <td>0</td>\n",
              "      <td>0</td>\n",
              "      <td>1</td>\n",
              "      <td>2</td>\n",
              "      <td>schedule</td>\n",
              "    </tr>\n",
              "    <tr>\n",
              "      <th>2</th>\n",
              "      <td>0</td>\n",
              "      <td>1</td>\n",
              "      <td>0</td>\n",
              "      <td>2</td>\n",
              "      <td>delegate</td>\n",
              "    </tr>\n",
              "    <tr>\n",
              "      <th>3</th>\n",
              "      <td>0</td>\n",
              "      <td>1</td>\n",
              "      <td>1</td>\n",
              "      <td>2</td>\n",
              "      <td>drop</td>\n",
              "    </tr>\n",
              "    <tr>\n",
              "      <th>4</th>\n",
              "      <td>0</td>\n",
              "      <td>0</td>\n",
              "      <td>0</td>\n",
              "      <td>1</td>\n",
              "      <td>do it now</td>\n",
              "    </tr>\n",
              "    <tr>\n",
              "      <th>...</th>\n",
              "      <td>...</td>\n",
              "      <td>...</td>\n",
              "      <td>...</td>\n",
              "      <td>...</td>\n",
              "      <td>...</td>\n",
              "    </tr>\n",
              "    <tr>\n",
              "      <th>1311</th>\n",
              "      <td>1</td>\n",
              "      <td>0</td>\n",
              "      <td>0</td>\n",
              "      <td>0</td>\n",
              "      <td>drop</td>\n",
              "    </tr>\n",
              "    <tr>\n",
              "      <th>1312</th>\n",
              "      <td>0</td>\n",
              "      <td>0</td>\n",
              "      <td>0</td>\n",
              "      <td>0</td>\n",
              "      <td>drop</td>\n",
              "    </tr>\n",
              "    <tr>\n",
              "      <th>1313</th>\n",
              "      <td>1</td>\n",
              "      <td>0</td>\n",
              "      <td>0</td>\n",
              "      <td>0</td>\n",
              "      <td>drop</td>\n",
              "    </tr>\n",
              "    <tr>\n",
              "      <th>1314</th>\n",
              "      <td>0</td>\n",
              "      <td>0</td>\n",
              "      <td>0</td>\n",
              "      <td>0</td>\n",
              "      <td>drop</td>\n",
              "    </tr>\n",
              "    <tr>\n",
              "      <th>1315</th>\n",
              "      <td>1</td>\n",
              "      <td>0</td>\n",
              "      <td>0</td>\n",
              "      <td>0</td>\n",
              "      <td>drop</td>\n",
              "    </tr>\n",
              "  </tbody>\n",
              "</table>\n",
              "<p>1316 rows × 5 columns</p>\n",
              "</div>\n",
              "      <button class=\"colab-df-convert\" onclick=\"convertToInteractive('df-c04e39c5-a292-4ca6-8236-431ca9af55b0')\"\n",
              "              title=\"Convert this dataframe to an interactive table.\"\n",
              "              style=\"display:none;\">\n",
              "        \n",
              "  <svg xmlns=\"http://www.w3.org/2000/svg\" height=\"24px\"viewBox=\"0 0 24 24\"\n",
              "       width=\"24px\">\n",
              "    <path d=\"M0 0h24v24H0V0z\" fill=\"none\"/>\n",
              "    <path d=\"M18.56 5.44l.94 2.06.94-2.06 2.06-.94-2.06-.94-.94-2.06-.94 2.06-2.06.94zm-11 1L8.5 8.5l.94-2.06 2.06-.94-2.06-.94L8.5 2.5l-.94 2.06-2.06.94zm10 10l.94 2.06.94-2.06 2.06-.94-2.06-.94-.94-2.06-.94 2.06-2.06.94z\"/><path d=\"M17.41 7.96l-1.37-1.37c-.4-.4-.92-.59-1.43-.59-.52 0-1.04.2-1.43.59L10.3 9.45l-7.72 7.72c-.78.78-.78 2.05 0 2.83L4 21.41c.39.39.9.59 1.41.59.51 0 1.02-.2 1.41-.59l7.78-7.78 2.81-2.81c.8-.78.8-2.07 0-2.86zM5.41 20L4 18.59l7.72-7.72 1.47 1.35L5.41 20z\"/>\n",
              "  </svg>\n",
              "      </button>\n",
              "      \n",
              "  <style>\n",
              "    .colab-df-container {\n",
              "      display:flex;\n",
              "      flex-wrap:wrap;\n",
              "      gap: 12px;\n",
              "    }\n",
              "\n",
              "    .colab-df-convert {\n",
              "      background-color: #E8F0FE;\n",
              "      border: none;\n",
              "      border-radius: 50%;\n",
              "      cursor: pointer;\n",
              "      display: none;\n",
              "      fill: #1967D2;\n",
              "      height: 32px;\n",
              "      padding: 0 0 0 0;\n",
              "      width: 32px;\n",
              "    }\n",
              "\n",
              "    .colab-df-convert:hover {\n",
              "      background-color: #E2EBFA;\n",
              "      box-shadow: 0px 1px 2px rgba(60, 64, 67, 0.3), 0px 1px 3px 1px rgba(60, 64, 67, 0.15);\n",
              "      fill: #174EA6;\n",
              "    }\n",
              "\n",
              "    [theme=dark] .colab-df-convert {\n",
              "      background-color: #3B4455;\n",
              "      fill: #D2E3FC;\n",
              "    }\n",
              "\n",
              "    [theme=dark] .colab-df-convert:hover {\n",
              "      background-color: #434B5C;\n",
              "      box-shadow: 0px 1px 3px 1px rgba(0, 0, 0, 0.15);\n",
              "      filter: drop-shadow(0px 1px 2px rgba(0, 0, 0, 0.3));\n",
              "      fill: #FFFFFF;\n",
              "    }\n",
              "  </style>\n",
              "\n",
              "      <script>\n",
              "        const buttonEl =\n",
              "          document.querySelector('#df-c04e39c5-a292-4ca6-8236-431ca9af55b0 button.colab-df-convert');\n",
              "        buttonEl.style.display =\n",
              "          google.colab.kernel.accessAllowed ? 'block' : 'none';\n",
              "\n",
              "        async function convertToInteractive(key) {\n",
              "          const element = document.querySelector('#df-c04e39c5-a292-4ca6-8236-431ca9af55b0');\n",
              "          const dataTable =\n",
              "            await google.colab.kernel.invokeFunction('convertToInteractive',\n",
              "                                                     [key], {});\n",
              "          if (!dataTable) return;\n",
              "\n",
              "          const docLinkHtml = 'Like what you see? Visit the ' +\n",
              "            '<a target=\"_blank\" href=https://colab.research.google.com/notebooks/data_table.ipynb>data table notebook</a>'\n",
              "            + ' to learn more about interactive tables.';\n",
              "          element.innerHTML = '';\n",
              "          dataTable['output_type'] = 'display_data';\n",
              "          await google.colab.output.renderOutput(dataTable, element);\n",
              "          const docLink = document.createElement('div');\n",
              "          docLink.innerHTML = docLinkHtml;\n",
              "          element.appendChild(docLink);\n",
              "        }\n",
              "      </script>\n",
              "    </div>\n",
              "  </div>\n",
              "  "
            ]
          },
          "metadata": {},
          "execution_count": 155
        }
      ],
      "source": [
        "df"
      ]
    },
    {
      "cell_type": "code",
      "execution_count": 156,
      "metadata": {
        "id": "DbA7tmrbaHvc"
      },
      "outputs": [],
      "source": [
        "feature =  df.drop(['Prioritas'],axis=1)\n",
        "target = df['Prioritas'].values"
      ]
    },
    {
      "cell_type": "code",
      "execution_count": 157,
      "metadata": {
        "colab": {
          "base_uri": "https://localhost:8080/"
        },
        "id": "B1UFkh6OlZcf",
        "outputId": "d9d5bd8f-7d94-46a2-87c6-444927670a91"
      },
      "outputs": [
        {
          "output_type": "stream",
          "name": "stdout",
          "text": [
            "Epoch 1/20\n",
            "116/116 [==============================] - 2s 4ms/step - loss: 1.1976 - accuracy: 0.4517\n",
            "Epoch 2/20\n",
            "116/116 [==============================] - 1s 5ms/step - loss: 1.0611 - accuracy: 0.5320\n",
            "Epoch 3/20\n",
            "116/116 [==============================] - 1s 5ms/step - loss: 0.9479 - accuracy: 0.6580\n",
            "Epoch 4/20\n",
            "116/116 [==============================] - 1s 5ms/step - loss: 0.8611 - accuracy: 0.6830\n",
            "Epoch 5/20\n",
            "116/116 [==============================] - 1s 5ms/step - loss: 0.7745 - accuracy: 0.7492\n",
            "Epoch 6/20\n",
            "116/116 [==============================] - 0s 3ms/step - loss: 0.7086 - accuracy: 0.7828\n",
            "Epoch 7/20\n",
            "116/116 [==============================] - 0s 3ms/step - loss: 0.6468 - accuracy: 0.8143\n",
            "Epoch 8/20\n",
            "116/116 [==============================] - 0s 3ms/step - loss: 0.5981 - accuracy: 0.8436\n",
            "Epoch 9/20\n",
            "116/116 [==============================] - 0s 3ms/step - loss: 0.5420 - accuracy: 0.8578\n",
            "Epoch 10/20\n",
            "116/116 [==============================] - 0s 3ms/step - loss: 0.5108 - accuracy: 0.8523\n",
            "Epoch 11/20\n",
            "116/116 [==============================] - 0s 3ms/step - loss: 0.4598 - accuracy: 0.8893\n",
            "Epoch 12/20\n",
            "116/116 [==============================] - 0s 3ms/step - loss: 0.4236 - accuracy: 0.9055\n",
            "Epoch 13/20\n",
            "116/116 [==============================] - 0s 3ms/step - loss: 0.3849 - accuracy: 0.9283\n",
            "Epoch 14/20\n",
            "116/116 [==============================] - 0s 3ms/step - loss: 0.3418 - accuracy: 0.9142\n",
            "Epoch 15/20\n",
            "116/116 [==============================] - 0s 3ms/step - loss: 0.2914 - accuracy: 0.9305\n",
            "Epoch 16/20\n",
            "116/116 [==============================] - 0s 4ms/step - loss: 0.2456 - accuracy: 0.9446\n",
            "Epoch 17/20\n",
            "116/116 [==============================] - 0s 3ms/step - loss: 0.2187 - accuracy: 0.9674\n",
            "Epoch 18/20\n",
            "116/116 [==============================] - 0s 3ms/step - loss: 0.1948 - accuracy: 0.9696\n",
            "Epoch 19/20\n",
            "116/116 [==============================] - 0s 3ms/step - loss: 0.1821 - accuracy: 0.9685\n",
            "Epoch 20/20\n",
            "116/116 [==============================] - 0s 3ms/step - loss: 0.1628 - accuracy: 0.9696\n",
            "13/13 [==============================] - 0s 2ms/step\n",
            "Classification Report:\n",
            "              precision    recall  f1-score   support\n",
            "\n",
            "    delegate       1.00      0.99      1.00       111\n",
            "   do it now       0.83      1.00      0.91        40\n",
            "        drop       0.99      0.91      0.95        94\n",
            "    schedule       1.00      1.00      1.00       150\n",
            "\n",
            "    accuracy                           0.98       395\n",
            "   macro avg       0.96      0.98      0.96       395\n",
            "weighted avg       0.98      0.98      0.98       395\n",
            "\n"
          ]
        }
      ],
      "source": [
        "# Encode target data using LabelEncoder\n",
        "label_encoder = LabelEncoder()\n",
        "target_data_encoded = label_encoder.fit_transform(target)\n",
        "\n",
        "# Perform one-hot encoding on the encoded target data\n",
        "target_data_encoded_onehot = tf.keras.utils.to_categorical(target_data_encoded, num_classes=4)\n",
        "\n",
        "# Split the data into training and testing sets\n",
        "X_train, X_test, y_train, y_test = train_test_split(feature, target_data_encoded_onehot, test_size=0.3, random_state=42)\n",
        "\n",
        "# Build the model\n",
        "model = tf.keras.models.Sequential()\n",
        "model.add(tf.keras.layers.Dense(16, input_dim=4, activation='relu'))\n",
        "model.add(tf.keras.layers.Dense(8, activation='relu'))\n",
        "model.add(tf.keras.layers.Dense(4, activation='softmax'))\n",
        "\n",
        "# Compile the model\n",
        "model.compile(loss='categorical_crossentropy', optimizer='adam', metrics=['accuracy'])\n",
        "\n",
        "# Train the model\n",
        "history = model.fit(X_train, y_train, epochs=20, batch_size=8, verbose=1)\n",
        "\n",
        "# Predict on the test data\n",
        "predictions = model.predict(X_test)\n",
        "predicted_labels = np.argmax(predictions, axis=1)\n",
        "predicted_y = np.argmax(y_test, axis=1)\n",
        "\n",
        "# Decode the predicted labels\n",
        "predicted_labels_decoded = label_encoder.inverse_transform(predicted_labels)\n",
        "y_target = label_encoder.inverse_transform(predicted_y)\n",
        "\n",
        "# Generate classification report\n",
        "report = classification_report(y_target, predicted_labels_decoded)\n",
        "print(\"Classification Report:\")\n",
        "print(report)"
      ]
    },
    {
      "cell_type": "code",
      "execution_count": 158,
      "metadata": {
        "colab": {
          "base_uri": "https://localhost:8080/"
        },
        "id": "3QmUzJu0llyp",
        "outputId": "879d65ea-d14c-4bca-d163-277dd90fc41f"
      },
      "outputs": [
        {
          "output_type": "stream",
          "name": "stdout",
          "text": [
            "Accuracy: 97.72%\n"
          ]
        }
      ],
      "source": [
        "# Calculate accuracy\n",
        "accuracy = accuracy_score(y_target, predicted_labels_decoded)\n",
        "print(\"Accuracy: {:.2f}%\".format(accuracy * 100))"
      ]
    },
    {
      "cell_type": "code",
      "execution_count": 159,
      "metadata": {
        "colab": {
          "base_uri": "https://localhost:8080/"
        },
        "id": "XLhhV2OBobMJ",
        "outputId": "b2ecf818-5322-489f-b799-ac7906dc84d3"
      },
      "outputs": [
        {
          "output_type": "stream",
          "name": "stdout",
          "text": [
            "Classification Report:\n",
            "              precision    recall  f1-score   support\n",
            "\n",
            "    delegate       1.00      0.99      1.00       111\n",
            "   do it now       0.83      1.00      0.91        40\n",
            "        drop       0.99      0.91      0.95        94\n",
            "    schedule       1.00      1.00      1.00       150\n",
            "\n",
            "    accuracy                           0.98       395\n",
            "   macro avg       0.96      0.98      0.96       395\n",
            "weighted avg       0.98      0.98      0.98       395\n",
            "\n"
          ]
        }
      ],
      "source": [
        "# Generate classification report\n",
        "report = classification_report(y_target, predicted_labels_decoded)\n",
        "print(\"Classification Report:\")\n",
        "print(report)"
      ]
    },
    {
      "cell_type": "code",
      "execution_count": 160,
      "metadata": {
        "colab": {
          "base_uri": "https://localhost:8080/"
        },
        "id": "dFi1PnP9rh05",
        "outputId": "bfcbcd42-93bf-4442-e3e0-4e6845ae18e8"
      },
      "outputs": [
        {
          "output_type": "stream",
          "name": "stdout",
          "text": [
            "Confusion Matrix:\n",
            "[[110   0   1   0]\n",
            " [  0  40   0   0]\n",
            " [  0   8  86   0]\n",
            " [  0   0   0 150]]\n"
          ]
        }
      ],
      "source": [
        "# Compute confusion matrix\n",
        "cm = confusion_matrix(y_target, predicted_labels_decoded)\n",
        "\n",
        "print(\"Confusion Matrix:\")\n",
        "print(cm)"
      ]
    },
    {
      "cell_type": "code",
      "execution_count": 161,
      "metadata": {
        "colab": {
          "base_uri": "https://localhost:8080/",
          "height": 927
        },
        "id": "7vuVjWxCzRbU",
        "outputId": "39f3b18d-217f-4fba-8a03-532ec37fc274"
      },
      "outputs": [
        {
          "output_type": "display_data",
          "data": {
            "text/plain": [
              "<Figure size 640x480 with 1 Axes>"
            ],
            "image/png": "[encoded data removed]"
          },
          "metadata": {}
        },
        {
          "output_type": "display_data",
          "data": {
            "text/plain": [
              "<Figure size 640x480 with 1 Axes>"
            ],
            "image/png": "[encoded data removed]"
          },
          "metadata": {}
        }
      ],
      "source": [
        "# Plot the training loss\n",
        "import matplotlib.pyplot as plt\n",
        "plt.plot(history.history['loss'])\n",
        "plt.title('Training Loss')\n",
        "plt.xlabel('Epoch')\n",
        "plt.ylabel('Loss')\n",
        "plt.show()\n",
        "\n",
        "# Plot the training accuracy\n",
        "plt.plot(history.history['accuracy'])\n",
        "plt.title('Training Accuracy')\n",
        "plt.xlabel('Epoch')\n",
        "plt.ylabel('Accuracy')\n",
        "plt.show()"
      ]
    },
    {
      "cell_type": "code",
      "execution_count": 162,
      "metadata": {
        "id": "TLpMs-iirv-S"
      },
      "outputs": [],
      "source": [
        "model.save(\"model.h5\")"
      ]
    },
    {
      "cell_type": "code",
      "execution_count": 163,
      "metadata": {
        "id": "B3AXB4HbvE_e"
      },
      "outputs": [],
      "source": [
        "loaded_model = tf.keras.models.load_model(\"model.h5\")"
      ]
    },
    {
      "cell_type": "code",
      "execution_count": 164,
      "metadata": {
        "id": "W4TaFaFQvFTT"
      },
      "outputs": [],
      "source": [
        "input_data = [[48,0,1,2], [53,1,0,0], [0,0,0,0], [0,1,1,0],[0,0,1,2],[0,1,0,2],[1,0,0,1], [11,0,0,1], [10,1,1,2]]"
      ]
    },
    {
      "cell_type": "code",
      "execution_count": 165,
      "metadata": {
        "colab": {
          "base_uri": "https://localhost:8080/"
        },
        "id": "RB4O_JSUvyn_",
        "outputId": "0e0399a6-dbc0-479b-ebc1-058770dd2ec5"
      },
      "outputs": [
        {
          "output_type": "stream",
          "name": "stdout",
          "text": [
            "1/1 [==============================] - 0s 70ms/step\n"
          ]
        }
      ],
      "source": [
        "predictions = loaded_model.predict(input_data)"
      ]
    },
    {
      "cell_type": "code",
      "execution_count": 166,
      "metadata": {
        "id": "bxba10iqv3ER"
      },
      "outputs": [],
      "source": [
        "predicted_labels = np.argmax(predictions, axis=1)\n",
        "\n",
        "# Decode the predicted labels\n",
        "predicted_labels_decoded = label_encoder.inverse_transform(predicted_labels)"
      ]
    },
    {
      "cell_type": "code",
      "execution_count": 167,
      "metadata": {
        "colab": {
          "base_uri": "https://localhost:8080/"
        },
        "id": "C-CQ9Zi0wGNl",
        "outputId": "32d6e1e7-766b-486f-80ba-e560562d7846"
      },
      "outputs": [
        {
          "output_type": "stream",
          "name": "stdout",
          "text": [
            "Input Data 1\n",
            "Prediction: schedule\n",
            "\n",
            "Input Data 2\n",
            "Prediction: delegate\n",
            "\n",
            "Input Data 3\n",
            "Prediction: do it now\n",
            "\n",
            "Input Data 4\n",
            "Prediction: drop\n",
            "\n",
            "Input Data 5\n",
            "Prediction: do it now\n",
            "\n",
            "Input Data 6\n",
            "Prediction: delegate\n",
            "\n",
            "Input Data 7\n",
            "Prediction: do it now\n",
            "\n",
            "Input Data 8\n",
            "Prediction: schedule\n",
            "\n",
            "Input Data 9\n",
            "Prediction: drop\n",
            "\n"
          ]
        }
      ],
      "source": [
        "for i, predicted_labels_decoded in enumerate(predicted_labels_decoded):\n",
        "    print(\"Input Data\", i+1)\n",
        "    print(\"Prediction:\", predicted_labels_decoded)\n",
        "    print()"
      ]
    }
  ],
  "metadata": {
    "accelerator": "GPU",
    "colab": {
      "gpuType": "T4",
      "provenance": []
    },
    "gpuClass": "standard",
    "kernelspec": {
      "display_name": "Python 3 (ipykernel)",
      "language": "python",
      "name": "python3"
    },
    "language_info": {
      "codemirror_mode": {
        "name": "ipython",
        "version": 3
      },
      "file_extension": ".py",
      "mimetype": "text/x-python",
      "name": "python",
      "nbconvert_exporter": "python",
      "pygments_lexer": "ipython3",
      "version": "3.9.13"
    },
    "toc": {
      "base_numbering": 1,
      "nav_menu": {},
      "number_sections": true,
      "sideBar": true,
      "skip_h1_title": false,
      "title_cell": "Table of Contents",
      "title_sidebar": "Contents",
      "toc_cell": false,
      "toc_position": {},
      "toc_section_display": true,
      "toc_window_display": false
    },
    "varInspector": {
      "cols": {
        "lenName": 16,
        "lenType": 16,
        "lenVar": 40
      },
      "kernels_config": {
        "python": {
          "delete_cmd_postfix": "",
          "delete_cmd_prefix": "del ",
          "library": "var_list.py",
          "varRefreshCmd": "print(var_dic_list())"
        },
        "r": {
          "delete_cmd_postfix": ") ",
          "delete_cmd_prefix": "rm(",
          "library": "var_list.r",
          "varRefreshCmd": "cat(var_dic_list()) "
        }
      },
      "types_to_exclude": [
        "module",
        "function",
        "builtin_function_or_method",
        "instance",
        "_Feature"
      ],
      "window_display": false
    }
  },
  "nbformat": 4,
  "nbformat_minor": 0
}